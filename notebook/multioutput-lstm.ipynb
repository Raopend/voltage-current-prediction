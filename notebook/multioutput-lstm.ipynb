{
 "cells": [
  {
   "cell_type": "code",
   "execution_count": 4,
   "id": "initial_id",
   "metadata": {
    "ExecuteTime": {
     "end_time": "2024-04-19T13:07:00.193911Z",
     "start_time": "2024-04-19T13:07:00.186719Z"
    },
    "collapsed": true
   },
   "outputs": [],
   "source": [
    "from typing import List\n",
    "import numpy as np\n",
    "import pandas as pd\n",
    "from lightning.pytorch.utilities.types import TRAIN_DATALOADERS, EVAL_DATALOADERS\n",
    "from sklearn.model_selection import train_test_split\n",
    "from sklearn.preprocessing import MinMaxScaler\n",
    "from torch import nn\n",
    "import torch\n",
    "import torch.nn.functional as F\n",
    "from pytorch_forecasting import TimeSeriesDataSet\n",
    "from lightning.pytorch.callbacks import EarlyStopping\n",
    "import lightning.pytorch as pl"
   ]
  },
  {
   "cell_type": "code",
   "execution_count": 9,
   "id": "cd0bee3d4cbe12ab",
   "metadata": {
    "ExecuteTime": {
     "end_time": "2024-04-19T13:10:46.796942Z",
     "start_time": "2024-04-19T13:10:46.754046Z"
    }
   },
   "outputs": [],
   "source": [
    "df = pd.read_csv(\n",
    "    \"../data/dnaq_15Min_interval.csv\",\n",
    "    parse_dates=[\"collection_time\"],\n",
    "    index_col=\"collection_time\",\n",
    ")\n",
    "N_LAGS = 7\n",
    "HORIZON = 1\n",
    "TARGET = [\"Ia\", \"Ib\", \"Ic\", \"Ua\", \"Ub\", \"Uc\"]\n",
    "n_vars = df.shape[1]"
   ]
  },
  {
   "cell_type": "code",
   "execution_count": 10,
   "id": "d08ed8545e4d43ff",
   "metadata": {
    "ExecuteTime": {
     "end_time": "2024-04-19T13:10:48.599294Z",
     "start_time": "2024-04-19T13:10:48.588176Z"
    }
   },
   "outputs": [],
   "source": [
    "class MultivariateSeriesDataModule(pl.LightningDataModule):\n",
    "    def __init__(\n",
    "            self,\n",
    "            data: pd.DataFrame,\n",
    "            target_variables: List[str],\n",
    "            n_lags: int,\n",
    "            horizon: int,\n",
    "            test_size: float = 0.2,\n",
    "            batch_size: int = 32,\n",
    "    ):\n",
    "        super().__init__()\n",
    "        self.data = data\n",
    "        self.batch_size = batch_size\n",
    "        self.test_size = test_size\n",
    "        self.n_lags = n_lags\n",
    "        self.horizon = horizon\n",
    "        self.target_variables = target_variables\n",
    "        self.target_scaler = {k: MinMaxScaler() for k in target_variables}\n",
    "        self.feature_names = [\n",
    "            col for col in data.columns if col not in self.target_variables\n",
    "        ]\n",
    "\n",
    "        self.training = None\n",
    "        self.validation = None\n",
    "        self.test = None\n",
    "        self.predict_set = None\n",
    "\n",
    "        self.setup()\n",
    "\n",
    "    def preprocess_data(self):\n",
    "        self.data[\"time_index\"] = np.arange(len(self.data))\n",
    "        self.data[\"group_id\"] = 0\n",
    "\n",
    "    def split_data(self):\n",
    "        time_indices = self.data[\"time_index\"].values\n",
    "        train_indices, test_indices = train_test_split(\n",
    "            time_indices, test_size=self.test_size, shuffle=False\n",
    "        )\n",
    "        train_indices, val_indices = train_test_split(\n",
    "            train_indices, test_size=0.1, shuffle=False\n",
    "        )\n",
    "        return train_indices, val_indices, test_indices\n",
    "\n",
    "    def scale_target(self, df, indices):\n",
    "        for c in self.target_variables:\n",
    "            scaled_values = self.target_scaler[c].transform(df.loc[indices, [c]])\n",
    "            df.loc[indices, c] = scaled_values\n",
    "\n",
    "    def setup(self, stage=None):\n",
    "        self.preprocess_data()\n",
    "        train_indices, val_indices, test_indices = self.split_data()\n",
    "\n",
    "        train_df = self.data.loc[self.data[\"time_index\"].isin(train_indices)]\n",
    "        val_df = self.data.loc[self.data[\"time_index\"].isin(val_indices)]\n",
    "        test_df = self.data.loc[self.data[\"time_index\"].isin(test_indices)]\n",
    "\n",
    "        for c in self.target_variables:\n",
    "            self.target_scaler[c].fit(train_df[[c]])\n",
    "\n",
    "        self.scale_target(train_df, train_df.index)\n",
    "        self.scale_target(val_df, val_df.index)\n",
    "        self.scale_target(test_df, test_df.index)\n",
    "\n",
    "        self.training = TimeSeriesDataSet(\n",
    "            train_df,\n",
    "            time_idx=\"time_index\",\n",
    "            target=self.target_variables,\n",
    "            group_ids=[\"group_id\"],\n",
    "            max_encoder_length=self.n_lags,\n",
    "            max_prediction_length=self.horizon,\n",
    "            time_varying_unknown_reals=self.feature_names + self.target_variables,\n",
    "            scalers={name: MinMaxScaler() for name in self.feature_names},\n",
    "        )\n",
    "        self.validation = TimeSeriesDataSet.from_dataset(self.training, val_df)\n",
    "        self.test = TimeSeriesDataSet.from_dataset(self.training, test_df)\n",
    "        self.predict_set = TimeSeriesDataSet.from_dataset(\n",
    "            self.training, self.data, predict=True, stop_randomization=True\n",
    "        )\n",
    "        \n",
    "    def train_dataloader(self) -> TRAIN_DATALOADERS:\n",
    "        return self.training.to_dataloader(batch_size=self.batch_size, shuffle=False)\n",
    "    \n",
    "    def val_dataloader(self) -> EVAL_DATALOADERS:\n",
    "        return self.validation.to_dataloader(batch_size=self.batch_size, shuffle=False)\n",
    "    \n",
    "    def test_dataloader(self) -> EVAL_DATALOADERS:\n",
    "        return self.test.to_dataloader(batch_size=self.batch_size, shuffle=False)\n",
    "    \n",
    "    def predict_dataloader(self) -> EVAL_DATALOADERS:\n",
    "        return self.predict_set.to_dataloader(batch_size=1, shuffle=False)"
   ]
  },
  {
   "cell_type": "code",
   "execution_count": 11,
   "id": "5f0e78449989b15a",
   "metadata": {
    "ExecuteTime": {
     "end_time": "2024-04-19T13:10:49.177371Z",
     "start_time": "2024-04-19T13:10:49.169787Z"
    }
   },
   "outputs": [],
   "source": [
    "class MultiOutputLSTM(pl.LightningModule):\n",
    "    def __init__(self, input_dim, hidden_dim, num_layers, horizon, n_output):\n",
    "        super().__init__()\n",
    "        self.n_output = n_output\n",
    "        self.horizon = horizon\n",
    "        self.hidden_dim = hidden_dim\n",
    "        self.input_dim = input_dim\n",
    "        self.output_dim = int(self.n_output * self.horizon)\n",
    "        self.lstm = nn.LSTM(input_dim, hidden_dim, num_layers, batch_first=True)\n",
    "        self.fc = nn.Linear(hidden_dim, self.output_dim)\n",
    "\n",
    "    def forward(self, x):\n",
    "        h0 = torch.zeros(self.lstm.num_layers, x.size(0), self.hidden_dim).to(\n",
    "            self.device\n",
    "        )\n",
    "        c0 = torch.zeros(self.lstm.num_layers, x.size(0), self.hidden_dim).to(\n",
    "            self.device\n",
    "        )\n",
    "        out, _ = self.lstm(x, (h0, c0))\n",
    "        out = self.fc(out[:, -1, :])\n",
    "\n",
    "        return out\n",
    "\n",
    "    def training_step(self, batch, batch_idx):\n",
    "        x, y = batch\n",
    "        y_pred = self(x[\"encoder_cont\"])\n",
    "\n",
    "        y_pred = y_pred.unsqueeze(-1).view(-1, self.horizon, self.n_output)\n",
    "        y_pred = [y_pred[:, :, i] for i in range(self.n_output)]\n",
    "\n",
    "        loss = [F.mse_loss(y_pred[i], y[0][i]) for i in range(self.n_output)]\n",
    "\n",
    "        loss = torch.mean(torch.stack(loss))\n",
    "\n",
    "        self.log(\"train_loss\", loss)\n",
    "        return loss\n",
    "\n",
    "    def validation_step(self, batch, batch_idx):\n",
    "        x, y = batch\n",
    "        y_pred = self(x[\"encoder_cont\"])\n",
    "\n",
    "        y_pred = y_pred.unsqueeze(-1).view(-1, self.horizon, self.n_output)\n",
    "        y_pred = [y_pred[:, :, i] for i in range(self.n_output)]\n",
    "\n",
    "        loss = [F.mse_loss(y_pred[i], y[0][i]) for i in range(self.n_output)]\n",
    "\n",
    "        loss = torch.mean(torch.stack(loss))\n",
    "\n",
    "        self.log(\"val_loss\", loss)\n",
    "        return loss\n",
    "\n",
    "    def test_step(self, batch, batch_idx):\n",
    "        x, y = batch\n",
    "        y_pred = self(x[\"encoder_cont\"])\n",
    "\n",
    "        y_pred = y_pred.unsqueeze(-1).view(-1, self.horizon, self.n_output)\n",
    "        y_pred = [y_pred[:, :, i] for i in range(self.n_output)]\n",
    "\n",
    "        loss = [F.mse_loss(y_pred[i], y[0][i]) for i in range(self.n_output)]\n",
    "\n",
    "        loss = torch.mean(torch.stack(loss))\n",
    "\n",
    "        self.log(\"test_loss\", loss)\n",
    "\n",
    "    def predict_step(self, batch, batch_idx, dataloader_idx=0):\n",
    "        x, y = batch\n",
    "\n",
    "        y_pred = self(x[\"encoder_cont\"])\n",
    "\n",
    "        y_pred = y_pred.unsqueeze(-1).view(-1, self.horizon, self.n_output)\n",
    "        y_pred = [y_pred[:, :, i] for i in range(self.n_output)]\n",
    "\n",
    "        return y_pred\n",
    "\n",
    "    def configure_optimizers(self):\n",
    "        return torch.optim.Adam(self.parameters(), lr=0.001)"
   ]
  },
  {
   "cell_type": "code",
   "execution_count": 12,
   "id": "2079fecef224caf2",
   "metadata": {
    "ExecuteTime": {
     "end_time": "2024-04-19T13:10:50.328966Z",
     "start_time": "2024-04-19T13:10:50.323980Z"
    }
   },
   "outputs": [],
   "source": [
    "model = MultiOutputLSTM(\n",
    "    input_dim=n_vars, hidden_dim=32, num_layers=2, horizon=HORIZON, n_output=len(TARGET)\n",
    ")"
   ]
  },
  {
   "cell_type": "code",
   "execution_count": 13,
   "id": "5bb90fd0a1fb4b91",
   "metadata": {
    "ExecuteTime": {
     "end_time": "2024-04-19T13:10:51.632405Z",
     "start_time": "2024-04-19T13:10:51.628509Z"
    }
   },
   "outputs": [
    {
     "name": "stdout",
     "output_type": "stream",
     "text": [
      "MultiOutputLSTM(\n",
      "  (lstm): LSTM(9, 32, num_layers=2, batch_first=True)\n",
      "  (fc): Linear(in_features=32, out_features=6, bias=True)\n",
      ")\n"
     ]
    }
   ],
   "source": [
    "print(model)"
   ]
  },
  {
   "cell_type": "code",
   "execution_count": 14,
   "id": "25700753ccf23711",
   "metadata": {
    "ExecuteTime": {
     "end_time": "2024-04-19T13:11:01.519563Z",
     "start_time": "2024-04-19T13:11:01.390613Z"
    }
   },
   "outputs": [],
   "source": [
    "datamodule = MultivariateSeriesDataModule(\n",
    "    data=df,\n",
    "    n_lags=N_LAGS,\n",
    "    horizon=HORIZON,\n",
    "    test_size=0.2,\n",
    "    batch_size=32,\n",
    "    target_variables=TARGET,\n",
    ")"
   ]
  },
  {
   "cell_type": "code",
   "execution_count": 15,
   "id": "887a0c042f89cc55",
   "metadata": {
    "ExecuteTime": {
     "end_time": "2024-04-19T13:11:03.199833Z",
     "start_time": "2024-04-19T13:11:03.196270Z"
    }
   },
   "outputs": [],
   "source": [
    "early_stop_callback = EarlyStopping(\n",
    "    monitor=\"val_loss\", min_delta=1e-4, patience=10, verbose=False, mode=\"min\"\n",
    ")"
   ]
  },
  {
   "cell_type": "code",
   "execution_count": 16,
   "id": "c64dd3001a8939d3",
   "metadata": {
    "ExecuteTime": {
     "end_time": "2024-04-19T13:21:01.735813Z",
     "start_time": "2024-04-19T13:11:10.121677Z"
    }
   },
   "outputs": [
    {
     "name": "stderr",
     "output_type": "stream",
     "text": [
      "GPU available: True (mps), used: True\n",
      "TPU available: False, using: 0 TPU cores\n",
      "IPU available: False, using: 0 IPUs\n",
      "HPU available: False, using: 0 HPUs\n",
      "\n",
      "  | Name | Type   | Params\n",
      "--------------------------------\n",
      "0 | lstm | LSTM   | 14.0 K\n",
      "1 | fc   | Linear | 198   \n",
      "--------------------------------\n",
      "14.2 K    Trainable params\n",
      "0         Non-trainable params\n",
      "14.2 K    Total params\n",
      "0.057     Total estimated model params size (MB)\n"
     ]
    },
    {
     "data": {
      "application/vnd.jupyter.widget-view+json": {
       "model_id": "da20d92d9276493a8107243bdb5f78a5",
       "version_major": 2,
       "version_minor": 0
      },
      "text/plain": [
       "Sanity Checking: |          | 0/? [00:00<?, ?it/s]"
      ]
     },
     "metadata": {},
     "output_type": "display_data"
    },
    {
     "name": "stderr",
     "output_type": "stream",
     "text": [
      "/Users/raopend/Workspace/stock-price-prediction-system/notebooks/.venv/lib/python3.10/site-packages/lightning/pytorch/trainer/connectors/data_connector.py:441: The 'val_dataloader' does not have many workers which may be a bottleneck. Consider increasing the value of the `num_workers` argument` to `num_workers=7` in the `DataLoader` to improve performance.\n",
      "/Users/raopend/Workspace/stock-price-prediction-system/notebooks/.venv/lib/python3.10/site-packages/lightning/pytorch/utilities/data.py:77: Trying to infer the `batch_size` from an ambiguous collection. The batch size we found is 32. To avoid any miscalculations, use `self.log(..., batch_size=batch_size)`.\n",
      "/Users/raopend/Workspace/stock-price-prediction-system/notebooks/.venv/lib/python3.10/site-packages/lightning/pytorch/trainer/connectors/data_connector.py:441: The 'train_dataloader' does not have many workers which may be a bottleneck. Consider increasing the value of the `num_workers` argument` to `num_workers=7` in the `DataLoader` to improve performance.\n"
     ]
    },
    {
     "data": {
      "application/vnd.jupyter.widget-view+json": {
       "model_id": "847cbd956d22473989c136fdd57bb571",
       "version_major": 2,
       "version_minor": 0
      },
      "text/plain": [
       "Training: |          | 0/? [00:00<?, ?it/s]"
      ]
     },
     "metadata": {},
     "output_type": "display_data"
    },
    {
     "data": {
      "application/vnd.jupyter.widget-view+json": {
       "model_id": "d7e7c8807867419e9205770e94777a83",
       "version_major": 2,
       "version_minor": 0
      },
      "text/plain": [
       "Validation: |          | 0/? [00:00<?, ?it/s]"
      ]
     },
     "metadata": {},
     "output_type": "display_data"
    },
    {
     "data": {
      "application/vnd.jupyter.widget-view+json": {
       "model_id": "5904ce96d4824be58403ddf1ab091fe6",
       "version_major": 2,
       "version_minor": 0
      },
      "text/plain": [
       "Validation: |          | 0/? [00:00<?, ?it/s]"
      ]
     },
     "metadata": {},
     "output_type": "display_data"
    },
    {
     "data": {
      "application/vnd.jupyter.widget-view+json": {
       "model_id": "9f89f96621f348ad80fbed218fc27e0e",
       "version_major": 2,
       "version_minor": 0
      },
      "text/plain": [
       "Validation: |          | 0/? [00:00<?, ?it/s]"
      ]
     },
     "metadata": {},
     "output_type": "display_data"
    },
    {
     "data": {
      "application/vnd.jupyter.widget-view+json": {
       "model_id": "1dc3a3a96e15446889abb473c84d838c",
       "version_major": 2,
       "version_minor": 0
      },
      "text/plain": [
       "Validation: |          | 0/? [00:00<?, ?it/s]"
      ]
     },
     "metadata": {},
     "output_type": "display_data"
    },
    {
     "data": {
      "application/vnd.jupyter.widget-view+json": {
       "model_id": "11eb0bd566f647518cbfd3d937ccc6a5",
       "version_major": 2,
       "version_minor": 0
      },
      "text/plain": [
       "Validation: |          | 0/? [00:00<?, ?it/s]"
      ]
     },
     "metadata": {},
     "output_type": "display_data"
    },
    {
     "data": {
      "application/vnd.jupyter.widget-view+json": {
       "model_id": "849628c1bd9e42169064a192d8140bd4",
       "version_major": 2,
       "version_minor": 0
      },
      "text/plain": [
       "Validation: |          | 0/? [00:00<?, ?it/s]"
      ]
     },
     "metadata": {},
     "output_type": "display_data"
    },
    {
     "data": {
      "application/vnd.jupyter.widget-view+json": {
       "model_id": "e557105bd7cd48988558aa4ad733bb08",
       "version_major": 2,
       "version_minor": 0
      },
      "text/plain": [
       "Validation: |          | 0/? [00:00<?, ?it/s]"
      ]
     },
     "metadata": {},
     "output_type": "display_data"
    },
    {
     "data": {
      "application/vnd.jupyter.widget-view+json": {
       "model_id": "aae7e41ae1f74f8db14f53cb90e028b2",
       "version_major": 2,
       "version_minor": 0
      },
      "text/plain": [
       "Validation: |          | 0/? [00:00<?, ?it/s]"
      ]
     },
     "metadata": {},
     "output_type": "display_data"
    },
    {
     "data": {
      "application/vnd.jupyter.widget-view+json": {
       "model_id": "822cbc51f16b4ef1b9061c65a6118ea2",
       "version_major": 2,
       "version_minor": 0
      },
      "text/plain": [
       "Validation: |          | 0/? [00:00<?, ?it/s]"
      ]
     },
     "metadata": {},
     "output_type": "display_data"
    },
    {
     "data": {
      "application/vnd.jupyter.widget-view+json": {
       "model_id": "a07cbc49c9764fc9bc040df433e2b6f2",
       "version_major": 2,
       "version_minor": 0
      },
      "text/plain": [
       "Validation: |          | 0/? [00:00<?, ?it/s]"
      ]
     },
     "metadata": {},
     "output_type": "display_data"
    },
    {
     "data": {
      "application/vnd.jupyter.widget-view+json": {
       "model_id": "0e0bc48154784b1eb04451c362fb4e46",
       "version_major": 2,
       "version_minor": 0
      },
      "text/plain": [
       "Validation: |          | 0/? [00:00<?, ?it/s]"
      ]
     },
     "metadata": {},
     "output_type": "display_data"
    },
    {
     "data": {
      "application/vnd.jupyter.widget-view+json": {
       "model_id": "acd36feadbf145c4a97eacc4ecef3b43",
       "version_major": 2,
       "version_minor": 0
      },
      "text/plain": [
       "Validation: |          | 0/? [00:00<?, ?it/s]"
      ]
     },
     "metadata": {},
     "output_type": "display_data"
    },
    {
     "data": {
      "application/vnd.jupyter.widget-view+json": {
       "model_id": "ac5ca52a8bca4826a86132029a90b8bb",
       "version_major": 2,
       "version_minor": 0
      },
      "text/plain": [
       "Validation: |          | 0/? [00:00<?, ?it/s]"
      ]
     },
     "metadata": {},
     "output_type": "display_data"
    },
    {
     "data": {
      "application/vnd.jupyter.widget-view+json": {
       "model_id": "cd89df45ab274c3996747b400683368b",
       "version_major": 2,
       "version_minor": 0
      },
      "text/plain": [
       "Validation: |          | 0/? [00:00<?, ?it/s]"
      ]
     },
     "metadata": {},
     "output_type": "display_data"
    },
    {
     "data": {
      "application/vnd.jupyter.widget-view+json": {
       "model_id": "eebeb9f62b32424d9bd74295b3bbf5eb",
       "version_major": 2,
       "version_minor": 0
      },
      "text/plain": [
       "Validation: |          | 0/? [00:00<?, ?it/s]"
      ]
     },
     "metadata": {},
     "output_type": "display_data"
    },
    {
     "data": {
      "application/vnd.jupyter.widget-view+json": {
       "model_id": "1f3161d2fe3846b0991d7f61035cefda",
       "version_major": 2,
       "version_minor": 0
      },
      "text/plain": [
       "Validation: |          | 0/? [00:00<?, ?it/s]"
      ]
     },
     "metadata": {},
     "output_type": "display_data"
    },
    {
     "data": {
      "application/vnd.jupyter.widget-view+json": {
       "model_id": "26e22268521d48778211792f17f12efe",
       "version_major": 2,
       "version_minor": 0
      },
      "text/plain": [
       "Validation: |          | 0/? [00:00<?, ?it/s]"
      ]
     },
     "metadata": {},
     "output_type": "display_data"
    },
    {
     "data": {
      "application/vnd.jupyter.widget-view+json": {
       "model_id": "fddb13dadf5a42e5b245e6deac68c61d",
       "version_major": 2,
       "version_minor": 0
      },
      "text/plain": [
       "Validation: |          | 0/? [00:00<?, ?it/s]"
      ]
     },
     "metadata": {},
     "output_type": "display_data"
    },
    {
     "data": {
      "application/vnd.jupyter.widget-view+json": {
       "model_id": "628318b8337f4b1ebfa5e7b5c5a4860f",
       "version_major": 2,
       "version_minor": 0
      },
      "text/plain": [
       "Validation: |          | 0/? [00:00<?, ?it/s]"
      ]
     },
     "metadata": {},
     "output_type": "display_data"
    },
    {
     "data": {
      "application/vnd.jupyter.widget-view+json": {
       "model_id": "90b9f493de114672a6e2eb32b2a29cb4",
       "version_major": 2,
       "version_minor": 0
      },
      "text/plain": [
       "Validation: |          | 0/? [00:00<?, ?it/s]"
      ]
     },
     "metadata": {},
     "output_type": "display_data"
    },
    {
     "data": {
      "application/vnd.jupyter.widget-view+json": {
       "model_id": "5d65c163be554f31825284ffc96eab8b",
       "version_major": 2,
       "version_minor": 0
      },
      "text/plain": [
       "Validation: |          | 0/? [00:00<?, ?it/s]"
      ]
     },
     "metadata": {},
     "output_type": "display_data"
    },
    {
     "data": {
      "application/vnd.jupyter.widget-view+json": {
       "model_id": "91438248fa814fcb92df602f06c685f3",
       "version_major": 2,
       "version_minor": 0
      },
      "text/plain": [
       "Validation: |          | 0/? [00:00<?, ?it/s]"
      ]
     },
     "metadata": {},
     "output_type": "display_data"
    },
    {
     "data": {
      "application/vnd.jupyter.widget-view+json": {
       "model_id": "77527baff340449da11b1f31633210e1",
       "version_major": 2,
       "version_minor": 0
      },
      "text/plain": [
       "Validation: |          | 0/? [00:00<?, ?it/s]"
      ]
     },
     "metadata": {},
     "output_type": "display_data"
    },
    {
     "data": {
      "application/vnd.jupyter.widget-view+json": {
       "model_id": "5a9406757c26400a89f8ede016bbe981",
       "version_major": 2,
       "version_minor": 0
      },
      "text/plain": [
       "Validation: |          | 0/? [00:00<?, ?it/s]"
      ]
     },
     "metadata": {},
     "output_type": "display_data"
    },
    {
     "data": {
      "application/vnd.jupyter.widget-view+json": {
       "model_id": "bb5d175d8cc14373bd6cd1e99ca9fc7d",
       "version_major": 2,
       "version_minor": 0
      },
      "text/plain": [
       "Validation: |          | 0/? [00:00<?, ?it/s]"
      ]
     },
     "metadata": {},
     "output_type": "display_data"
    },
    {
     "data": {
      "application/vnd.jupyter.widget-view+json": {
       "model_id": "f9568b0b3fc643d395bfe8890ba70d38",
       "version_major": 2,
       "version_minor": 0
      },
      "text/plain": [
       "Validation: |          | 0/? [00:00<?, ?it/s]"
      ]
     },
     "metadata": {},
     "output_type": "display_data"
    },
    {
     "data": {
      "application/vnd.jupyter.widget-view+json": {
       "model_id": "b6e05379d1de44918ae626ec09fb46f6",
       "version_major": 2,
       "version_minor": 0
      },
      "text/plain": [
       "Validation: |          | 0/? [00:00<?, ?it/s]"
      ]
     },
     "metadata": {},
     "output_type": "display_data"
    },
    {
     "data": {
      "application/vnd.jupyter.widget-view+json": {
       "model_id": "64eb7b44658c41e9a2c769e55540a861",
       "version_major": 2,
       "version_minor": 0
      },
      "text/plain": [
       "Validation: |          | 0/? [00:00<?, ?it/s]"
      ]
     },
     "metadata": {},
     "output_type": "display_data"
    },
    {
     "data": {
      "application/vnd.jupyter.widget-view+json": {
       "model_id": "a0f1712591d64d30951aa6adbf82811f",
       "version_major": 2,
       "version_minor": 0
      },
      "text/plain": [
       "Validation: |          | 0/? [00:00<?, ?it/s]"
      ]
     },
     "metadata": {},
     "output_type": "display_data"
    },
    {
     "data": {
      "application/vnd.jupyter.widget-view+json": {
       "model_id": "8f7d4411217b4d90bc1754d39d55963d",
       "version_major": 2,
       "version_minor": 0
      },
      "text/plain": [
       "Validation: |          | 0/? [00:00<?, ?it/s]"
      ]
     },
     "metadata": {},
     "output_type": "display_data"
    },
    {
     "name": "stderr",
     "output_type": "stream",
     "text": [
      "`Trainer.fit` stopped: `max_epochs=30` reached.\n"
     ]
    }
   ],
   "source": [
    "from lightning.pytorch.loggers import TensorBoardLogger\n",
    "\n",
    "logger = TensorBoardLogger('lightning_logs', name=\"low-power-equipment-prediction\")\n",
    "trainer = pl.Trainer(max_epochs=30, callbacks=[early_stop_callback], logger=logger)\n",
    "trainer.fit(model, datamodule)"
   ]
  },
  {
   "cell_type": "code",
   "execution_count": 17,
   "id": "589a4ba1c1480a1c",
   "metadata": {
    "ExecuteTime": {
     "end_time": "2024-04-19T13:21:07.941310Z",
     "start_time": "2024-04-19T13:21:04.011941Z"
    }
   },
   "outputs": [
    {
     "name": "stderr",
     "output_type": "stream",
     "text": [
      "/Users/raopend/Workspace/stock-price-prediction-system/notebooks/.venv/lib/python3.10/site-packages/lightning/pytorch/trainer/connectors/data_connector.py:441: The 'test_dataloader' does not have many workers which may be a bottleneck. Consider increasing the value of the `num_workers` argument` to `num_workers=7` in the `DataLoader` to improve performance.\n"
     ]
    },
    {
     "data": {
      "application/vnd.jupyter.widget-view+json": {
       "model_id": "ce1d7d26e59443c988525eda1929eaf9",
       "version_major": 2,
       "version_minor": 0
      },
      "text/plain": [
       "Testing: |          | 0/? [00:00<?, ?it/s]"
      ]
     },
     "metadata": {},
     "output_type": "display_data"
    },
    {
     "name": "stdout",
     "output_type": "stream",
     "text": [
      "────────────────────────────────────────────────────────────────────────────────────────────────────────────────────────\n",
      "       Test metric             DataLoader 0\n",
      "────────────────────────────────────────────────────────────────────────────────────────────────────────────────────────\n",
      "        test_loss          0.007004112470895052\n",
      "────────────────────────────────────────────────────────────────────────────────────────────────────────────────────────\n"
     ]
    },
    {
     "data": {
      "text/plain": [
       "[{'test_loss': 0.007004112470895052}]"
      ]
     },
     "execution_count": 17,
     "metadata": {},
     "output_type": "execute_result"
    }
   ],
   "source": [
    "trainer.test(model, datamodule.test_dataloader())"
   ]
  },
  {
   "cell_type": "code",
   "execution_count": 21,
   "id": "99804620bd891285",
   "metadata": {
    "ExecuteTime": {
     "end_time": "2024-04-19T13:22:15.901102Z",
     "start_time": "2024-04-19T13:22:15.737657Z"
    }
   },
   "outputs": [
    {
     "name": "stderr",
     "output_type": "stream",
     "text": [
      "/Users/raopend/Workspace/stock-price-prediction-system/notebooks/.venv/lib/python3.10/site-packages/lightning/pytorch/trainer/connectors/data_connector.py:441: The 'predict_dataloader' does not have many workers which may be a bottleneck. Consider increasing the value of the `num_workers` argument` to `num_workers=7` in the `DataLoader` to improve performance.\n"
     ]
    },
    {
     "data": {
      "application/vnd.jupyter.widget-view+json": {
       "model_id": "17cf0f5b6452435aa28616f53aa19c3b",
       "version_major": 2,
       "version_minor": 0
      },
      "text/plain": [
       "Predicting: |          | 0/? [00:00<?, ?it/s]"
      ]
     },
     "metadata": {},
     "output_type": "display_data"
    }
   ],
   "source": [
    "forecasts = trainer.predict(model=model, datamodule=datamodule)"
   ]
  },
  {
   "cell_type": "code",
   "execution_count": 22,
   "id": "b282158e091367b",
   "metadata": {
    "ExecuteTime": {
     "end_time": "2024-04-19T13:22:17.070236Z",
     "start_time": "2024-04-19T13:22:17.064133Z"
    }
   },
   "outputs": [
    {
     "data": {
      "text/plain": [
       "[[tensor([[0.0980]]),\n",
       "  tensor([[0.1690]]),\n",
       "  tensor([[0.0897]]),\n",
       "  tensor([[0.7159]]),\n",
       "  tensor([[0.7116]]),\n",
       "  tensor([[0.7289]])]]"
      ]
     },
     "execution_count": 22,
     "metadata": {},
     "output_type": "execute_result"
    }
   ],
   "source": [
    "forecasts"
   ]
  },
  {
   "cell_type": "code",
   "execution_count": 25,
   "id": "d5470cd37ffc655e",
   "metadata": {
    "ExecuteTime": {
     "end_time": "2024-04-19T13:32:23.056051Z",
     "start_time": "2024-04-19T13:32:22.323993Z"
    }
   },
   "outputs": [
    {
     "name": "stderr",
     "output_type": "stream",
     "text": [
      "/Users/raopend/Workspace/stock-price-prediction-system/notebooks/.venv/lib/python3.10/site-packages/torch/onnx/symbolic_opset9.py:4662: UserWarning: Exporting a model to ONNX with a batch_size other than 1, with a variable length with LSTM can cause an error when running the ONNX model with a different batch size. Make sure to save the model with a batch size of 1, or define the initial states (h0/c0) as inputs of the model. \n",
      "  warnings.warn(\n"
     ]
    }
   ],
   "source": [
    "model.eval()\n",
    "torch.onnx.export(\n",
    "    model,\n",
    "    torch.randn(1, N_LAGS, n_vars),\n",
    "    \"../model/multi_output_lstm.onnx\",\n",
    "    export_params=True,\n",
    ")"
   ]
  },
  {
   "cell_type": "code",
   "execution_count": null,
   "id": "c27eeb0bc5e89627",
   "metadata": {},
   "outputs": [],
   "source": []
  }
 ],
 "metadata": {
  "kernelspec": {
   "display_name": "Python 3",
   "language": "python",
   "name": "python3"
  },
  "language_info": {
   "codemirror_mode": {
    "name": "ipython",
    "version": 2
   },
   "file_extension": ".py",
   "mimetype": "text/x-python",
   "name": "python",
   "nbconvert_exporter": "python",
   "pygments_lexer": "ipython2",
   "version": "3.10.13"
  }
 },
 "nbformat": 4,
 "nbformat_minor": 5
}
