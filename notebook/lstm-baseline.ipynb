{
 "cells": [
  {
   "cell_type": "code",
   "execution_count": 10,
   "id": "initial_id",
   "metadata": {
    "ExecuteTime": {
     "end_time": "2024-04-07T08:17:04.072985Z",
     "start_time": "2024-04-07T08:17:02.257347Z"
    },
    "collapsed": true
   },
   "outputs": [],
   "source": [
    "import numpy as np\n",
    "import pandas as pd\n",
    "\n",
    "%matplotlib inline"
   ]
  },
  {
   "cell_type": "code",
   "execution_count": null,
   "id": "303018a5",
   "metadata": {},
   "outputs": [],
   "source": [
    "df = pd.read_csv(\n",
    "    \"../data/dnaq_15s_interval.csv\",\n",
    "    parse_dates=[\"collection_time\"],\n",
    "    index_col=\"collection_time\",\n",
    ")[\"Ua\"].astype(np.float32)"
   ]
  },
  {
   "cell_type": "code",
   "execution_count": 11,
   "id": "d628a2fa6c81fe00",
   "metadata": {
    "ExecuteTime": {
     "end_time": "2024-04-07T08:17:04.080176Z",
     "start_time": "2024-04-07T08:17:04.076418Z"
    }
   },
   "outputs": [],
   "source": [
    "def series_to_supervised(data, n_in=1, n_out=1, dropnan=True):\n",
    "    n_vars = 1 if len(data.shape) == 1 else data.shape[1]\n",
    "    df = pd.DataFrame(data)\n",
    "    cols, names = list(), list()\n",
    "\n",
    "    for i in range(n_in, 0, -1):\n",
    "        cols.append(df.shift(i))\n",
    "        names += [(\"var%d(t-%d)\" % (j + 1, i)) for j in range(n_vars)]\n",
    "\n",
    "    for i in range(0, n_out):\n",
    "        cols.append(df.shift(-i))\n",
    "        if i == 0:\n",
    "            names += [(\"var%d(t)\" % (j + 1)) for j in range(n_vars)]\n",
    "        else:\n",
    "            names += [(\"var%d(t+%d)\" % (j + 1, i)) for j in range(n_vars)]\n",
    "\n",
    "    agg = pd.concat(cols, axis=1)\n",
    "    agg.columns = names\n",
    "\n",
    "    if dropnan:\n",
    "        agg.dropna(inplace=True)\n",
    "\n",
    "    return agg"
   ]
  },
  {
   "cell_type": "code",
   "execution_count": 12,
   "id": "2f705168f56be742",
   "metadata": {
    "ExecuteTime": {
     "end_time": "2024-04-07T08:17:04.174760Z",
     "start_time": "2024-04-07T08:17:04.081079Z"
    }
   },
   "outputs": [],
   "source": [
    "data = series_to_supervised(df, 5)"
   ]
  },
  {
   "cell_type": "code",
   "execution_count": 13,
   "id": "fd50321b2ee5cab8",
   "metadata": {
    "ExecuteTime": {
     "end_time": "2024-04-07T08:17:04.270075Z",
     "start_time": "2024-04-07T08:17:04.175870Z"
    }
   },
   "outputs": [],
   "source": [
    "from sklearn.model_selection import train_test_split\n",
    "from sklearn.preprocessing import MinMaxScaler\n",
    "\n",
    "scaler = MinMaxScaler(feature_range=(-1, 1))\n",
    "train, test = train_test_split(data, test_size=0.2, shuffle=False)\n",
    "train = scaler.fit_transform(train)\n",
    "test = scaler.transform(test)"
   ]
  },
  {
   "cell_type": "code",
   "execution_count": 16,
   "id": "8b0a270f8123dd1e",
   "metadata": {
    "ExecuteTime": {
     "end_time": "2024-04-07T08:17:47.474328Z",
     "start_time": "2024-04-07T08:17:47.467091Z"
    }
   },
   "outputs": [],
   "source": [
    "import torch\n",
    "\n",
    "X_train, y_train = train[:, :-1], train[:, -1]\n",
    "X_test, y_test = test[:, :-1], test[:, -1]\n",
    "\n",
    "X_train = torch.from_numpy(X_train)\n",
    "X_test = torch.from_numpy(X_test)\n",
    "y_train = torch.from_numpy(y_train).view(-1)\n",
    "y_test = torch.from_numpy(y_test).view(-1)\n",
    "\n",
    "X_train = X_train.view([X_train.shape[0], X_train.shape[1], 1])\n",
    "X_test = X_test.view([X_test.shape[0], X_test.shape[1], 1])"
   ]
  },
  {
   "cell_type": "code",
   "execution_count": 17,
   "id": "b863ceb4659327f2",
   "metadata": {
    "ExecuteTime": {
     "end_time": "2024-04-07T08:18:22.690426Z",
     "start_time": "2024-04-07T08:17:47.778139Z"
    }
   },
   "outputs": [
    {
     "name": "stdout",
     "output_type": "stream",
     "text": [
      "Epoch: 0, Loss: 0.726574718952179\n",
      "Epoch: 1, Loss: 0.7101190090179443\n",
      "Epoch: 2, Loss: 0.6938565969467163\n"
     ]
    },
    {
     "name": "stderr",
     "output_type": "stream",
     "text": [
      "\n",
      "KeyboardInterrupt\n",
      "\n"
     ]
    }
   ],
   "source": [
    "from torch import nn\n",
    "\n",
    "\n",
    "class LSTM(nn.Module):\n",
    "    def __init__(self, input_dim, hidden_dim, num_layers, output_dim):\n",
    "        super(LSTM, self).__init__()\n",
    "        self.hidden_dim = hidden_dim\n",
    "        self.num_layers = num_layers\n",
    "        self.lstm = nn.LSTM(input_dim, hidden_dim, num_layers, batch_first=True)\n",
    "        self.fc = nn.Linear(hidden_dim, output_dim)\n",
    "\n",
    "    def forward(self, x):\n",
    "        h0 = torch.zeros(self.num_layers, x.size(0), self.hidden_dim).requires_grad_()\n",
    "        c0 = torch.zeros(self.num_layers, x.size(0), self.hidden_dim).requires_grad_()\n",
    "        out, (hn, cn) = self.lstm(x, (h0.detach(), c0.detach()))\n",
    "        out = self.fc(out[:, -1, :])\n",
    "\n",
    "        return out\n",
    "\n",
    "\n",
    "model = LSTM(input_dim=1, hidden_dim=32, output_dim=1, num_layers=1)\n",
    "\n",
    "loss_fn = nn.MSELoss()\n",
    "optimizer = torch.optim.Adam(model.parameters(), lr=0.001)\n",
    "\n",
    "epochs = 200\n",
    "\n",
    "for epoch in range(epochs):\n",
    "    model.train()\n",
    "    optimizer.zero_grad()\n",
    "\n",
    "    out = model(X_train).reshape(\n",
    "        -1,\n",
    "    )\n",
    "    loss = loss_fn(out, y_train)\n",
    "    loss.backward()\n",
    "    optimizer.step()\n",
    "\n",
    "    print(f\"Epoch: {epoch}, Loss: {loss.item()}\")\n",
    "\n",
    "model.eval()\n",
    "y_pred = model(X_test).reshape(\n",
    "    -1,\n",
    ")\n",
    "test_loss = loss_fn(y_pred, y_test)\n",
    "print(f\"Test Loss: {test_loss.item()}\")"
   ]
  },
  {
   "cell_type": "code",
   "execution_count": null,
   "id": "52356b9270fc80f8",
   "metadata": {},
   "outputs": [],
   "source": []
  }
 ],
 "metadata": {
  "kernelspec": {
   "display_name": "Python 3",
   "language": "python",
   "name": "python3"
  },
  "language_info": {
   "codemirror_mode": {
    "name": "ipython",
    "version": 2
   },
   "file_extension": ".py",
   "mimetype": "text/x-python",
   "name": "python",
   "nbconvert_exporter": "python",
   "pygments_lexer": "ipython2",
   "version": "3.10.13"
  }
 },
 "nbformat": 4,
 "nbformat_minor": 5
}
